{
 "cells": [
  {
   "cell_type": "code",
   "execution_count": 1,
   "metadata": {
    "collapsed": true
   },
   "outputs": [],
   "source": [
    "from parameters_lstm import *\n",
    "\n",
    "from preprocess_datapoints_lstm import *\n",
    "from preprocess_text_to_tensors_lstm import *\n",
    "from domain_classifier_model_lstm import *\n",
    "from meter import *\n",
    "\n",
    "import torch\n",
    "from torch.autograd import Variable\n",
    "\n",
    "\n",
    "truncation_val_title = 15\n",
    "truncation_val_body = 85\n",
    "hidden_size = 240\n",
    "num_layers = 1\n",
    "bidirectional = True\n",
    "first_dim = num_layers * 2 if bidirectional else num_layers\n",
    "\n",
    "\n",
    "# Initialize the data sets\n",
    "processed_corpus = process_whole_corpuses()\n",
    "word_to_id_vocab = processed_corpus['word_to_id']\n",
    "word2vec = load_glove_embeddings(glove_path, word_to_id_vocab)\n",
    "android_id_to_data_title = processed_corpus['android_id_to_data_title']\n",
    "android_id_to_data_body = processed_corpus['android_id_to_data_body']"
   ]
  },
  {
   "cell_type": "code",
   "execution_count": 3,
   "metadata": {},
   "outputs": [
    {
     "name": "stdout",
     "output_type": "stream",
     "text": [
      "119786\n",
      "0 2396 4792 7188 9584 11980 14376 16772 19168 21564 23960 26356 28752 31148 33544 35940 38336 40732 43128 45524 47920 50316 52712 55108 57504 59900 62296 64692 67088 69484 71880 74276 76672 79068 81464 83860 86256 88652 91048 93444 95840 98236 100632 103028 105424 107820 110216 112612 115008 117404 Test AUC score: 0.622795109684\n"
     ]
    }
   ],
   "source": [
    "''' Data Sets '''\n",
    "test_data_android = android_id_to_similar_different(dev=False)\n",
    "test_question_ids_android = list(test_data_android.keys())[:]\n",
    "\n",
    "\n",
    "''' Encoder (LSTM) '''\n",
    "#lstm = torch.load('../Pickle/lstm_dir_trans_title_body_0101_epoch0_batch200.pth')\n",
    "\n",
    "h0 = Variable(torch.zeros(first_dim, 1, hidden_size), requires_grad=False)\n",
    "c0 = Variable(torch.zeros(first_dim, 1, hidden_size), requires_grad=False)\n",
    "\n",
    "\n",
    "''' Procedural parameters '''\n",
    "auc_scorer = AUCMeter()\n",
    "\n",
    "\n",
    "def eval_model(lstm, ids, data, word2vec, id2Data_title, id2Data_body, word_to_id_vocab, truncation_val_title, truncation_val_body):\n",
    "    lstm.eval()\n",
    "    auc_scorer.reset()\n",
    "\n",
    "    candidate_ids, q_main_ids, labels = organize_test_ids(ids, data)\n",
    "    num_q_main = len(q_main_ids)\n",
    "    len_pieces = round(num_q_main/50)\n",
    "    print(num_q_main)\n",
    "\n",
    "    for i in range(0, num_q_main, len_pieces):\n",
    "        print(i, end = ' ')\n",
    "        q_main_id_num_repl_tuple = q_main_ids[i:i+len_pieces]\n",
    "        candidates = candidate_ids[i:i+len_pieces]\n",
    "        current_labels = torch.from_numpy(np.array(labels[i:i+len_pieces])).long()\n",
    "\n",
    "        candidates_qs_matrix = construct_qs_matrix_testing(candidates, lstm, h0, c0, word2vec, id2Data_title, id2Data_body,\n",
    "        word_to_id_vocab, truncation_val_title, truncation_val_body, main=False)\n",
    "        main_qs_matrix = construct_qs_matrix_testing(q_main_id_num_repl_tuple, lstm, h0, c0, word2vec, id2Data_title, id2Data_body,\n",
    "        word_to_id_vocab, truncation_val_title, truncation_val_body, main=True)\n",
    "\n",
    "        similarity_matrix_this_batch = torch.nn.functional.cosine_similarity(candidates_qs_matrix, main_qs_matrix, eps=1e-6).data\n",
    "        auc_scorer.add(similarity_matrix_this_batch, current_labels)\n",
    "\n",
    "    auc_score = auc_scorer.value()\n",
    "\n",
    "    return auc_score\n",
    "\n",
    "\n",
    "# Evaluate on dev/test set for AUC score\n",
    "test_AUC_score = eval_model(lstm, test_question_ids_android, test_data_android, word2vec, android_id_to_data_title, android_id_to_data_body,\n",
    "                            word_to_id_vocab, truncation_val_title, truncation_val_body)\n",
    "\n",
    "print(\"Test AUC score:\", test_AUC_score)"
   ]
  }
 ],
 "metadata": {
  "kernelspec": {
   "display_name": "Python 3.5.3",
   "language": "python",
   "name": "py35"
  },
  "language_info": {
   "codemirror_mode": {
    "name": "ipython",
    "version": 3
   },
   "file_extension": ".py",
   "mimetype": "text/x-python",
   "name": "python",
   "nbconvert_exporter": "python",
   "pygments_lexer": "ipython3",
   "version": "3.5.4"
  }
 },
 "nbformat": 4,
 "nbformat_minor": 2
}
